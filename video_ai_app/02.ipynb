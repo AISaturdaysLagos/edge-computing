{
 "cells": [
  {
   "cell_type": "code",
   "execution_count": 3,
   "id": "5367f1e9-1543-45d4-849f-a6aad602f596",
   "metadata": {},
   "outputs": [
    {
     "name": "stdout",
     "output_type": "stream",
     "text": [
      "typefindfunctions: application/x-id3v2: mp3, mp2, mp1, mpga, ogg, flac, tta\n",
      "typefindfunctions: application/x-id3v1: mp3, mp2, mp1, mpga, ogg, flac, tta\n",
      "typefindfunctions: application/x-apetag: mp3, ape, mpc, wv\n"
     ]
    }
   ],
   "source": [
    "!gst-inspect-1.0 | grep mp3 | head -3"
   ]
  },
  {
   "cell_type": "code",
   "execution_count": 2,
   "id": "c5bde50c-edda-4a30-a815-9740af438137",
   "metadata": {},
   "outputs": [
    {
     "name": "stdout",
     "output_type": "stream",
     "text": [
      "WARNING: erroneous pipeline: no element \"xvimagesink\"\n"
     ]
    }
   ],
   "source": [
    "!gst-launch-1.0 v4l2src ! xvimagesink"
   ]
  },
  {
   "cell_type": "code",
   "execution_count": 1,
   "id": "16159f6f-7112-4ee3-af40-1d12b623ab36",
   "metadata": {},
   "outputs": [
    {
     "name": "stdout",
     "output_type": "stream",
     "text": [
      "01.ipynb  03.ipynb  README.md       \u001b[0m\u001b[01;34mtest1\u001b[0m/       untitled1.py\n",
      "02.ipynb  04.ipynb  \u001b[01;32mdocker_run.sh\u001b[0m*  untitled.py  videotestsrc-frame.jpg\n"
     ]
    }
   ],
   "source": [
    "ls"
   ]
  },
  {
   "cell_type": "code",
   "execution_count": 2,
   "id": "7b7f1121-7597-471a-9060-6ef80e7fb2fa",
   "metadata": {},
   "outputs": [],
   "source": [
    "!cd test1"
   ]
  },
  {
   "cell_type": "code",
   "execution_count": 14,
   "id": "4147bca5-fec0-49ee-85c1-4639c56f5903",
   "metadata": {},
   "outputs": [],
   "source": [
    "# Set some path locations for readability\n",
    "PYTHON_APPS = '/opt/nvidia/deepstream/deepstream/sources/deepstream_python_apps/apps'\n",
    "STREAMS = '/opt/nvidia/deepstream/deepstream/samples/streams'"
   ]
  },
  {
   "cell_type": "code",
   "execution_count": 15,
   "id": "ca0c3e1b-f955-48bd-845a-b1046d1c564a",
   "metadata": {},
   "outputs": [
    {
     "name": "stdout",
     "output_type": "stream",
     "text": [
      "sample_1080p_h264.mp4  sample_720p.mp4\t      sample_qHD.mp4\t     yoga.jpg\n",
      "sample_1080p_h265.mp4  sample_cam6.mp4\t      sample_ride_bike.mov   yoga.mp4\n",
      "sample_720p.h264       sample_industrial.jpg  sample_run.mov\n",
      "sample_720p.jpg        sample_push.mov\t      sample_walk.mov\n",
      "sample_720p.mjpeg      sample_qHD.h264\t      sonyc_mixed_audio.wav\n"
     ]
    }
   ],
   "source": [
    "# List the sample video streams available\n",
    "!ls $STREAMS"
   ]
  },
  {
   "cell_type": "code",
   "execution_count": 22,
   "id": "1c6eece3-f8ca-4d0f-8841-4e7e414ef948",
   "metadata": {},
   "outputs": [],
   "source": [
    "# update model path by ../../"
   ]
  },
  {
   "cell_type": "code",
   "execution_count": 24,
   "id": "2e76eccc-c70a-42f7-b7f0-b5fd959e0bc9",
   "metadata": {},
   "outputs": [
    {
     "name": "stdout",
     "output_type": "stream",
     "text": [
      "Creating Pipeline \n",
      " \n",
      "Creating Source \n",
      " \n",
      "Creating H264Parser \n",
      "\n",
      "Creating Decoder \n",
      "\n",
      "Creating EGLSink \n",
      "\n",
      "Playing file /opt/nvidia/deepstream/deepstream/samples/streams/sample_720p.h264 \n",
      "Adding elements to Pipeline \n",
      "\n",
      "Linking elements in the Pipeline \n",
      "\n",
      "Starting pipeline \n",
      "\n",
      "\n",
      "Using winsys: x11 \n",
      "Opening in BLOCKING MODE \n",
      "0:00:01.250097078 \u001b[331m  492\u001b[00m     0x3aad8b30 \u001b[33;01mWARN   \u001b[00m \u001b[00m             nvinfer gstnvinfer.cpp:635:gst_nvinfer_logger:<primary-inference>\u001b[00m NvDsInferContext[UID 1]: Warning from NvDsInferContextImpl::initialize() <nvdsinfer_context_impl.cpp:1161> [UID = 1]: Warning, OpenCV has been deprecated. Using NMS for clustering instead of cv::groupRectangles with topK = 20 and NMS Threshold = 0.5\n",
      "ERROR: Deserialize engine failed because file path: /opt/nvidia/deepstream/deepstream-6.0/sources/deepstream_python_apps/my_apps/edge-computing/video_ai_app/test1/../../../../../../samples/models/Primary_Detector/resnet10.caffemodel_b1_gpu0_int8.engine open error\n",
      "0:00:04.942253525 \u001b[331m  492\u001b[00m     0x3aad8b30 \u001b[33;01mWARN   \u001b[00m \u001b[00m             nvinfer gstnvinfer.cpp:635:gst_nvinfer_logger:<primary-inference>\u001b[00m NvDsInferContext[UID 1]: Warning from NvDsInferContextImpl::deserializeEngineAndBackend() <nvdsinfer_context_impl.cpp:1889> [UID = 1]: deserialize engine from file :/opt/nvidia/deepstream/deepstream-6.0/sources/deepstream_python_apps/my_apps/edge-computing/video_ai_app/test1/../../../../../../samples/models/Primary_Detector/resnet10.caffemodel_b1_gpu0_int8.engine failed\n",
      "0:00:04.943446092 \u001b[331m  492\u001b[00m     0x3aad8b30 \u001b[33;01mWARN   \u001b[00m \u001b[00m             nvinfer gstnvinfer.cpp:635:gst_nvinfer_logger:<primary-inference>\u001b[00m NvDsInferContext[UID 1]: Warning from NvDsInferContextImpl::generateBackendContext() <nvdsinfer_context_impl.cpp:1996> [UID = 1]: deserialize backend context from engine from file :/opt/nvidia/deepstream/deepstream-6.0/sources/deepstream_python_apps/my_apps/edge-computing/video_ai_app/test1/../../../../../../samples/models/Primary_Detector/resnet10.caffemodel_b1_gpu0_int8.engine failed, try rebuild\n",
      "0:00:04.943495780 \u001b[331m  492\u001b[00m     0x3aad8b30 \u001b[36mINFO   \u001b[00m \u001b[00m             nvinfer gstnvinfer.cpp:638:gst_nvinfer_logger:<primary-inference>\u001b[00m NvDsInferContext[UID 1]: Info from NvDsInferContextImpl::buildModel() <nvdsinfer_context_impl.cpp:1914> [UID = 1]: Trying to create engine from model files\n",
      "WARNING: INT8 not supported by platform. Trying FP16 mode.\n",
      "0:03:05.129788063 \u001b[331m  492\u001b[00m     0x3aad8b30 \u001b[36mINFO   \u001b[00m \u001b[00m             nvinfer gstnvinfer.cpp:638:gst_nvinfer_logger:<primary-inference>\u001b[00m NvDsInferContext[UID 1]: Info from NvDsInferContextImpl::buildModel() <nvdsinfer_context_impl.cpp:1947> [UID = 1]: serialize cuda engine to file: /opt/nvidia/deepstream/deepstream-6.0/samples/models/Primary_Detector/resnet10.caffemodel_b1_gpu0_fp16.engine successfully\n",
      "INFO: [Implicit Engine Info]: layers num: 3\n",
      "0   INPUT  kFLOAT input_1         3x368x640       \n",
      "1   OUTPUT kFLOAT conv2d_bbox     16x23x40        \n",
      "2   OUTPUT kFLOAT conv2d_cov/Sigmoid 4x23x40         \n",
      "\n",
      "0:03:07.591408686 \u001b[331m  492\u001b[00m     0x3aad8b30 \u001b[36mINFO   \u001b[00m \u001b[00m             nvinfer gstnvinfer_impl.cpp:313:notifyLoadModelStatus:<primary-inference>\u001b[00m [UID 1]: Load new model:dstest1_pgie_config.txt sucessfully\n",
      "NvMMLiteOpen : Block : BlockType = 261 \n",
      "NVMEDIA: Reading vendor.tegra.display-size : status: 6 \n",
      "NvMMLiteBlockCreate : Block : BlockType = 261 \n",
      "Frame Number=0 Number of Objects=9 Vehicle_count=6 Person_count=3\n",
      "0:03:09.272035251 \u001b[331m  492\u001b[00m     0x3a670a80 \u001b[33;01mWARN   \u001b[00m \u001b[00m             nvinfer gstnvinfer.cpp:2288:gst_nvinfer_output_loop:<primary-inference>\u001b[00m error: Internal data stream error.\n",
      "0:03:09.272103742 \u001b[331m  492\u001b[00m     0x3a670a80 \u001b[33;01mWARN   \u001b[00m \u001b[00m             nvinfer gstnvinfer.cpp:2288:gst_nvinfer_output_loop:<primary-inference>\u001b[00m error: streaming stopped, reason error (-5)\n",
      "Error: gst-stream-error-quark: Internal data stream error. (1): /dvs/git/dirty/git-master_linux/deepstream/sdk/src/gst-plugins/gst-nvinfer/gstnvinfer.cpp(2288): gst_nvinfer_output_loop (): /GstPipeline:pipeline0/GstNvInfer:primary-inference:\n",
      "streaming stopped, reason error (-5)\n",
      "Frame Number=1 Number of Objects=10 Vehicle_count=7 Person_count=3\n"
     ]
    }
   ],
   "source": [
    "!cd test1 \\\n",
    "    && python3 deepstream_test_1.py $STREAMS/sample_720p.h264"
   ]
  },
  {
   "cell_type": "code",
   "execution_count": null,
   "id": "02816bb7-f00b-4db7-a2ad-9f421c47e014",
   "metadata": {},
   "outputs": [],
   "source": [
    "# /dli/task/deepstream/sources/deepstream_python_apps/apps/deepstream-test1 -reference "
   ]
  }
 ],
 "metadata": {
  "kernelspec": {
   "display_name": "Python 3",
   "language": "python",
   "name": "python3"
  },
  "language_info": {
   "codemirror_mode": {
    "name": "ipython",
    "version": 3
   },
   "file_extension": ".py",
   "mimetype": "text/x-python",
   "name": "python",
   "nbconvert_exporter": "python",
   "pygments_lexer": "ipython3",
   "version": "3.6.9"
  }
 },
 "nbformat": 4,
 "nbformat_minor": 5
}
