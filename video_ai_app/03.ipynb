{
 "cells": [
  {
   "cell_type": "code",
   "execution_count": 1,
   "id": "7eb36929-30b8-4ee2-ae83-26de93edcbc0",
   "metadata": {},
   "outputs": [
    {
     "name": "stdout",
     "output_type": "stream",
     "text": [
      "AL lib: (EE) ALCplaybackAlsa_open: Could not open playback device 'default': No such file or directory\n",
      "Opening in BLOCKING MODE \n",
      "NvMMLiteOpen : Block : BlockType = 261 \n",
      "NVMEDIA: Reading vendor.tegra.display-size : status: 6 \n",
      "NvMMLiteBlockCreate : Block : BlockType = 261 \n",
      "Cannot connect to server socket err = No such file or directory\n",
      "Cannot connect to server request channel\n",
      "jack server is not running or cannot be started\n",
      "JackShmReadWritePtr::~JackShmReadWritePtr - Init not done for -1, skipping unlock\n",
      "JackShmReadWritePtr::~JackShmReadWritePtr - Init not done for -1, skipping unlock\n",
      "AL lib: (EE) ALCplaybackAlsa_open: Could not open playback device 'default': No such file or directory\n"
     ]
    }
   ],
   "source": [
    "!cd test1 && python3 pipeline1.py"
   ]
  },
  {
   "cell_type": "code",
   "execution_count": 3,
   "id": "4f5c62e0-6194-4e38-9514-25d117c7c30a",
   "metadata": {},
   "outputs": [
    {
     "name": "stdout",
     "output_type": "stream",
     "text": [
      "Setting pipeline to PAUSED ...\n",
      "Pipeline is PREROLLING ...\n",
      "AL lib: (EE) ALCplaybackAlsa_open: Could not open playback device 'default': No such file or directory\n",
      "Opening in BLOCKING MODE \n",
      "NvMMLiteOpen : Block : BlockType = 261 \n",
      "NVMEDIA: Reading vendor.tegra.display-size : status: 6 \n",
      "NvMMLiteBlockCreate : Block : BlockType = 261 \n",
      "Cannot connect to server socket err = No such file or directory\n",
      "Cannot connect to server request channel\n",
      "jack server is not running or cannot be started\n",
      "JackShmReadWritePtr::~JackShmReadWritePtr - Init not done for -1, skipping unlock\n",
      "JackShmReadWritePtr::~JackShmReadWritePtr - Init not done for -1, skipping unlock\n",
      "AL lib: (EE) ALCplaybackAlsa_open: Could not open playback device 'default': No such file or directory\n",
      "Pipeline is PREROLLED ...\n",
      "Setting pipeline to PLAYING ...\n",
      "New clock: GstSystemClock\n",
      "Got EOS from element \"playbin0\".\n",
      "Execution ended after 0:00:48.067101244\n",
      "Setting pipeline to PAUSED ...\n",
      "Setting pipeline to READY ...\n",
      "Setting pipeline to NULL ...\n",
      "Freeing pipeline ...\n"
     ]
    }
   ],
   "source": [
    "!gst-launch-1.0 playbin uri=file:///dli/task/deepstream/samples/streams/sample_720p.mp4"
   ]
  },
  {
   "cell_type": "code",
   "execution_count": 4,
   "id": "ebbbe7e7-df04-4d07-9c78-c55febb264a4",
   "metadata": {},
   "outputs": [
    {
     "name": "stdout",
     "output_type": "stream",
     "text": [
      "Traceback (most recent call last):\n",
      "  File \"pipeline2.py\", line 25, in <module>\n",
      "    pipeline.add(source, sink)\n",
      "TypeError: Gst.Bin.add() takes exactly 2 arguments (3 given)\n"
     ]
    }
   ],
   "source": [
    "!cd test1 && python3 pipeline2.py"
   ]
  },
  {
   "cell_type": "code",
   "execution_count": 2,
   "id": "aea10191-00c6-45ae-b739-659742968fc5",
   "metadata": {},
   "outputs": [],
   "source": [
    "!cd test1 && python3 pipeline5.py"
   ]
  },
  {
   "cell_type": "code",
   "execution_count": null,
   "id": "851d108e-6e11-49f4-a951-6417b41b7bcd",
   "metadata": {},
   "outputs": [],
   "source": []
  }
 ],
 "metadata": {
  "kernelspec": {
   "display_name": "Python 3",
   "language": "python",
   "name": "python3"
  },
  "language_info": {
   "codemirror_mode": {
    "name": "ipython",
    "version": 3
   },
   "file_extension": ".py",
   "mimetype": "text/x-python",
   "name": "python",
   "nbconvert_exporter": "python",
   "pygments_lexer": "ipython3",
   "version": "3.6.9"
  }
 },
 "nbformat": 4,
 "nbformat_minor": 5
}
