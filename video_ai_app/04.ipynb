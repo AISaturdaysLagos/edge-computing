{
 "cells": [
  {
   "cell_type": "code",
   "execution_count": 3,
   "id": "5367f1e9-1543-45d4-849f-a6aad602f596",
   "metadata": {},
   "outputs": [
    {
     "name": "stdout",
     "output_type": "stream",
     "text": [
      "typefindfunctions: application/x-id3v2: mp3, mp2, mp1, mpga, ogg, flac, tta\n",
      "typefindfunctions: application/x-id3v1: mp3, mp2, mp1, mpga, ogg, flac, tta\n",
      "typefindfunctions: application/x-apetag: mp3, ape, mpc, wv\n"
     ]
    }
   ],
   "source": [
    "!gst-inspect-1.0 | grep mp3 | head -3"
   ]
  },
  {
   "cell_type": "code",
   "execution_count": null,
   "id": "c5bde50c-edda-4a30-a815-9740af438137",
   "metadata": {},
   "outputs": [],
   "source": []
  }
 ],
 "metadata": {
  "kernelspec": {
   "display_name": "Python 3",
   "language": "python",
   "name": "python3"
  },
  "language_info": {
   "codemirror_mode": {
    "name": "ipython",
    "version": 3
   },
   "file_extension": ".py",
   "mimetype": "text/x-python",
   "name": "python",
   "nbconvert_exporter": "python",
   "pygments_lexer": "ipython3",
   "version": "3.6.9"
  }
 },
 "nbformat": 4,
 "nbformat_minor": 5
}
