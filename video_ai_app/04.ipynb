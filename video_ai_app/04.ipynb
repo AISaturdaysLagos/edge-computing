{
 "cells": [
  {
   "cell_type": "code",
   "execution_count": 3,
   "id": "5367f1e9-1543-45d4-849f-a6aad602f596",
   "metadata": {},
   "outputs": [
    {
     "name": "stdout",
     "output_type": "stream",
     "text": [
      "typefindfunctions: application/x-id3v2: mp3, mp2, mp1, mpga, ogg, flac, tta\n",
      "typefindfunctions: application/x-id3v1: mp3, mp2, mp1, mpga, ogg, flac, tta\n",
      "typefindfunctions: application/x-apetag: mp3, ape, mpc, wv\n"
     ]
    }
   ],
   "source": [
    "!gst-inspect-1.0 | grep mp3 | head -3"
   ]
  },
  {
   "cell_type": "markdown",
   "id": "e27e0af3-8629-4840-86ad-4a348bea9831",
   "metadata": {},
   "source": [
    "## Sink"
   ]
  },
  {
   "cell_type": "code",
   "execution_count": 32,
   "id": "3a28044f-3b05-413b-b8ec-25dc8060dfb9",
   "metadata": {},
   "outputs": [
    {
     "name": "stdout",
     "output_type": "stream",
     "text": [
      "Setting pipeline to PAUSED ...\n",
      "Opening in BLOCKING MODE \n",
      "Pipeline is PREROLLING ...\n",
      "NvMMLiteOpen : Block : BlockType = 261 \n",
      "NVMEDIA: Reading vendor.tegra.display-size : status: 6 \n",
      "NvMMLiteBlockCreate : Block : BlockType = 261 \n",
      "Pipeline is PREROLLED ...\n",
      "Setting pipeline to PLAYING ...\n",
      "New clock: GstSystemClock\n",
      "Got EOS from element \"pipeline0\".\n",
      "Execution ended after 0:00:48.066789244\n",
      "Setting pipeline to PAUSED ...\n",
      "Setting pipeline to READY ...\n",
      "Setting pipeline to NULL ...\n",
      "Freeing pipeline ...\n"
     ]
    }
   ],
   "source": [
    "!gst-launch-1.0 filesrc location=\"/dli/task/deepstream/samples/streams/sample_720p.mp4\" ! \\\n",
    "qtdemux ! queue ! h264parse ! nvv4l2decoder ! nvoverlaysink -e"
   ]
  },
  {
   "cell_type": "code",
   "execution_count": 9,
   "id": "3d1f38c9-bf4c-41c7-be56-8fd69579c477",
   "metadata": {},
   "outputs": [],
   "source": [
    "#!gst-inspect-1.0 qtdemux"
   ]
  },
  {
   "cell_type": "code",
   "execution_count": 15,
   "id": "9169412c-e4ac-43d3-8f10-0ed3af96f439",
   "metadata": {},
   "outputs": [],
   "source": [
    "#!gst-inspect-1.0 queue"
   ]
  },
  {
   "cell_type": "code",
   "execution_count": 19,
   "id": "e481a6e6-2661-4174-b83e-e6874c625db5",
   "metadata": {},
   "outputs": [],
   "source": [
    "#!gst-inspect-1.0 ! h264parse "
   ]
  },
  {
   "cell_type": "code",
   "execution_count": 20,
   "id": "cde248cb-553c-47db-9ba8-595cd7c02d5e",
   "metadata": {},
   "outputs": [],
   "source": [
    "#!gst-inspect-1.0 ! nvv4l2decoder"
   ]
  },
  {
   "cell_type": "code",
   "execution_count": 33,
   "id": "a49abe12-9504-4add-a10b-b56f0d2fbad1",
   "metadata": {},
   "outputs": [],
   "source": [
    "#!gst-inspect-1.0 nvoverlaysink # sink 1"
   ]
  },
  {
   "cell_type": "code",
   "execution_count": 34,
   "id": "619ffdd1-b646-4706-b974-e41c8202ecd5",
   "metadata": {},
   "outputs": [],
   "source": [
    "#!gst-inspect-1.0 nvvideosink # sink 2"
   ]
  },
  {
   "cell_type": "code",
   "execution_count": 39,
   "id": "876e5062-3dd7-4450-8377-bfb12be04bee",
   "metadata": {},
   "outputs": [],
   "source": [
    "#!gst-inspect-1.0 appsink # sink 3"
   ]
  },
  {
   "cell_type": "code",
   "execution_count": 36,
   "id": "41276216-529f-4965-a357-a2ce2d1e4a3f",
   "metadata": {},
   "outputs": [
    {
     "name": "stdout",
     "output_type": "stream",
     "text": [
      "Setting pipeline to PAUSED ...\n",
      "Opening in BLOCKING MODE \n",
      "Pipeline is PREROLLING ...\n",
      "NvMMLiteOpen : Block : BlockType = 261 \n",
      "NVMEDIA: Reading vendor.tegra.display-size : status: 6 \n",
      "NvMMLiteBlockCreate : Block : BlockType = 261 \n",
      "Pipeline is PREROLLED ...\n",
      "Setting pipeline to PLAYING ...\n",
      "New clock: GstSystemClock\n",
      "Got EOS from element \"pipeline0\".\n",
      "Execution ended after 0:00:02.546120419\n",
      "Setting pipeline to PAUSED ...\n",
      "Setting pipeline to READY ...\n",
      "Setting pipeline to NULL ...\n",
      "Freeing pipeline ...\n"
     ]
    }
   ],
   "source": [
    "!gst-launch-1.0 filesrc location=\"/dli/task/deepstream/samples/streams/sample_720p.mp4\" ! \\\n",
    "qtdemux ! queue ! h264parse ! nvv4l2decoder ! fakesink -e"
   ]
  },
  {
   "cell_type": "code",
   "execution_count": 40,
   "id": "fced02ac-61cb-4257-ad97-b5b90ed3e750",
   "metadata": {},
   "outputs": [],
   "source": [
    "#!gst-inspect-1.0 fakesink # sink 4"
   ]
  },
  {
   "cell_type": "markdown",
   "id": "3f7f56e6-1a6b-4231-b8a5-e911e11fa7e4",
   "metadata": {},
   "source": [
    "## Encoder (h264, h256)"
   ]
  },
  {
   "cell_type": "code",
   "execution_count": 44,
   "id": "d09b214d-e126-45b8-9feb-8fcd1cf2ffb9",
   "metadata": {},
   "outputs": [
    {
     "name": "stdout",
     "output_type": "stream",
     "text": [
      "Setting pipeline to PAUSED ...\n",
      "Pipeline is PREROLLING ...\n",
      "Framerate set to : 30 at NvxVideoEncoderSetParameterNvMMLiteOpen : Block : BlockType = 4 \n",
      "===== NVMEDIA: NVENC =====\n",
      "NvMMLiteBlockCreate : Block : BlockType = 4 \n",
      "H264: Profile = 66, Level = 40 \n",
      "NVMEDIA_ENC: bBlitMode is set to TRUE \n",
      "Pipeline is PREROLLED ...\n",
      "Setting pipeline to PLAYING ...\n",
      "New clock: GstSystemClock\n",
      "^C\n",
      "handling interrupt.\n",
      "Interrupt: Stopping pipeline ...\n",
      "Execution ended after 0:01:18.870540722\n",
      "Setting pipeline to PAUSED ...\n",
      "Setting pipeline to READY ...\n",
      "Setting pipeline to NULL ...\n",
      "Freeing pipeline ...\n"
     ]
    }
   ],
   "source": [
    "!gst-launch-1.0 videotestsrc ! \\\n",
    "'video/x-raw, format=(string)I420, width=(int)640, \\\n",
    "height=(int)480' ! omxh264enc ! \\\n",
    "'video/x-h264, stream-format=(string)byte-stream' ! h264parse ! \\\n",
    "qtmux ! filesink location=test.mp4 "
   ]
  },
  {
   "cell_type": "code",
   "execution_count": 49,
   "id": "fc158f09-1578-4062-ae6e-aca694bf1c16",
   "metadata": {},
   "outputs": [
    {
     "name": "stdout",
     "output_type": "stream",
     "text": [
      "Setting pipeline to PAUSED ...\n",
      "Pipeline is PREROLLING ...\n",
      "Framerate set to : 30 at NvxVideoEncoderSetParameterNvMMLiteOpen : Block : BlockType = 8 \n",
      "===== NVMEDIA: NVENC =====\n",
      "NvMMLiteBlockCreate : Block : BlockType = 8 \n",
      "NVMEDIA: H265 : Profile : 1 \n",
      "NVMEDIA_ENC: bBlitMode is set to TRUE \n",
      "Pipeline is PREROLLED ...\n",
      "Setting pipeline to PLAYING ...\n",
      "New clock: GstSystemClock\n",
      "^C\n",
      "handling interrupt.\n",
      "Interrupt: Stopping pipeline ...\n",
      "EOS on shutdown enabled -- Forcing EOS on the pipeline\n",
      "Waiting for EOS...\n",
      "Got EOS from element \"pipeline0\".\n",
      "EOS received - stopping pipeline...\n",
      "Execution ended after 0:00:16.869571948\n",
      "Setting pipeline to PAUSED ...\n",
      "Setting pipeline to READY ...\n",
      "Setting pipeline to NULL ...\n",
      "Freeing pipeline ...\n"
     ]
    }
   ],
   "source": [
    "!gst-launch-1.0 videotestsrc ! \\\n",
    "'video/x-raw, format=(string)I420, width=(int)640, \\\n",
    "height=(int)480' ! omxh265enc ! filesink location=test.h265 -e"
   ]
  },
  {
   "cell_type": "code",
   "execution_count": 52,
   "id": "03fd6e8f-5621-43ca-96c9-e2200d83f681",
   "metadata": {},
   "outputs": [
    {
     "name": "stdout",
     "output_type": "stream",
     "text": [
      "Setting pipeline to PAUSED ...\n",
      "Opening in BLOCKING MODE \n",
      "Pipeline is live and does not need PREROLL ...\n",
      "Setting pipeline to PLAYING ...\n",
      "New clock: GstSystemClock\n",
      "NvMMLiteOpen : Block : BlockType = 4 \n",
      "Redistribute latency...\n",
      "===== NVMEDIA: NVENC =====\n",
      "Error generated. /dvs/git/dirty/git-master_linux/multimedia/nvgstreamer/gst-nvarguscamera/gstnvarguscamerasrc.cpp, execute:740 No cameras available\n",
      "NvMMLiteBlockCreate : Block : BlockType = 4 \n",
      "Got EOS from element \"pipeline0\".\n",
      "Execution ended after 0:00:00.203166178\n",
      "Setting pipeline to PAUSED ...\n",
      "Setting pipeline to READY ...\n",
      "Setting pipeline to NULL ...\n",
      "Freeing pipeline ...\n"
     ]
    }
   ],
   "source": [
    "!gst-launch-1.0 nvarguscamerasrc ! \\\n",
    "'video/x-raw(memory:NVMM), width=(int)1920, height=(int)1080, \\\n",
    "format=(string)NV12, framerate=(fraction)30/1' ! nvv4l2h264enc \\\n",
    "maxperf-enable=1 bitrate=8000000 ! h264parse ! qtmux ! filesink \\\n",
    "location=test.mp4 -e"
   ]
  },
  {
   "cell_type": "markdown",
   "id": "2458306c-8104-465a-b4b7-3eddf30b6b42",
   "metadata": {},
   "source": [
    "## Camera Capture"
   ]
  },
  {
   "cell_type": "code",
   "execution_count": 55,
   "id": "6d268403-3692-4c5a-97c7-e495f477eac1",
   "metadata": {},
   "outputs": [],
   "source": [
    "#https://github.com/JetsonHacksNano/CSI-Camera/blob/master/README.md\n",
    "#!gst-inspect-1.0  nvarguscamerasrc"
   ]
  },
  {
   "cell_type": "code",
   "execution_count": 59,
   "id": "e223b32f-4785-4705-b7ed-0430b95e5788",
   "metadata": {},
   "outputs": [
    {
     "name": "stdout",
     "output_type": "stream",
     "text": [
      "No such element or plugin 'nvgstcapture'\n"
     ]
    }
   ],
   "source": [
    "!gst-inspect-1.0 nvgstcapture"
   ]
  },
  {
   "cell_type": "code",
   "execution_count": 64,
   "id": "ae0c45bc-95cf-45ac-87ba-3f6979266f43",
   "metadata": {},
   "outputs": [],
   "source": [
    "# !gst-launch-1.0 nvarguscamerasrc ! ‘video/x-raw(memory:NVMM), \\\n",
    "# width=(int)1920, height=(int)1080, format=(string)NV12, \\\n",
    "# framerate=(fraction)30/1' ! nvoverlaysink -e"
   ]
  },
  {
   "cell_type": "code",
   "execution_count": 63,
   "id": "f71456f4-240a-4d24-9fa8-f6c3ff786af5",
   "metadata": {},
   "outputs": [
    {
     "name": "stdout",
     "output_type": "stream",
     "text": [
      "Setting pipeline to PAUSED ...\n",
      "Pipeline is live and does not need PREROLL ...\n",
      "Setting pipeline to PLAYING ...\n",
      "New clock: GstSystemClock\n",
      "^C\n",
      "handling interrupt.\n",
      "Interrupt: Stopping pipeline ...\n",
      "EOS on shutdown enabled -- Forcing EOS on the pipeline\n",
      "Waiting for EOS...\n",
      "Got EOS from element \"pipeline0\".\n",
      "EOS received - stopping pipeline...\n",
      "Execution ended after 0:00:16.297610829\n",
      "Setting pipeline to PAUSED ...\n",
      "Setting pipeline to READY ...\n",
      "Setting pipeline to NULL ...\n",
      "Freeing pipeline ...\n"
     ]
    }
   ],
   "source": [
    "!gst-launch-1.0 v4l2src device=\"/dev/video0\" ! \\\n",
    "\"video/x-raw, width=640, height=480, format=(string)YUY2\" ! \\\n",
    "xvimagesink -e"
   ]
  },
  {
   "cell_type": "code",
   "execution_count": 76,
   "id": "69767f4e-577f-4ad0-9b27-1b3e93c69e3c",
   "metadata": {},
   "outputs": [
    {
     "name": "stdout",
     "output_type": "stream",
     "text": [
      "Setting pipeline to PAUSED ...\n",
      "Opening in BLOCKING MODE \n",
      "ERROR: Pipeline doesn't want to pause.\n",
      "ERROR: from element /GstPipeline:pipeline0/GstV4l2Src:v4l2src0: Cannot identify device '/dev/video1'.\n",
      "Additional debug info:\n",
      "v4l2_calls.c(609): gst_v4l2_open (): /GstPipeline:pipeline0/GstV4l2Src:v4l2src0:\n",
      "system error: No such file or directory\n",
      "Setting pipeline to NULL ...\n",
      "Freeing pipeline ...\n"
     ]
    }
   ],
   "source": [
    "!gst-launch-1.0 v4l2src device=/dev/video1 io-mode=2 ! 'image/jpeg,width=1280,height=720' ! nvv4l2decoder mjpeg=1 ! nvvidconv ! 'video/x-raw(memory:NVMM),format=NV12' ! autovideosink location=tes_image.jpg "
   ]
  },
  {
   "cell_type": "code",
   "execution_count": 72,
   "id": "4a774f2d-b719-4ce3-91c9-21b253699891",
   "metadata": {},
   "outputs": [
    {
     "name": "stdout",
     "output_type": "stream",
     "text": [
      "Factory Details:\n",
      "  Rank                     none (0)\n",
      "  Long-name                Auto video sink\n",
      "  Klass                    Sink/Video\n",
      "  Description              Wrapper video sink for automatically detected video sink\n",
      "  Author                   Jan Schmidt <thaytan@noraisin.net>\n",
      "\n",
      "Plugin Details:\n",
      "  Name                     autodetect\n",
      "  Description              Plugin contains auto-detection plugins for video/audio in- and outputs\n",
      "  Filename                 /usr/lib/aarch64-linux-gnu/gstreamer-1.0/libgstautodetect.so\n",
      "  Version                  1.14.5\n",
      "  License                  LGPL\n",
      "  Source module            gst-plugins-good\n",
      "  Source release date      2019-05-29\n",
      "  Binary package           GStreamer Good Plugins (Ubuntu)\n",
      "  Origin URL               https://launchpad.net/distros/ubuntu/+source/gst-plugins-good1.0\n",
      "\n",
      "GObject\n",
      " +----GInitiallyUnowned\n",
      "       +----GstObject\n",
      "             +----GstElement\n",
      "                   +----GstBin\n",
      "                         +----GstAutoDetect\n",
      "                               +----GstAutoVideoSink\n",
      "\n",
      "Implemented Interfaces:\n",
      "  GstChildProxy\n",
      "\n",
      "Pad Templates:\n",
      "  SINK template: 'sink'\n",
      "    Availability: Always\n",
      "    Capabilities:\n",
      "      ANY\n",
      "\n",
      "Element has no clocking capabilities.\n",
      "Element has no URI handling capabilities.\n",
      "\n",
      "Pads:\n",
      "  SINK: 'sink'\n",
      "\n",
      "Element Properties:\n",
      "  name                : The name of the object\n",
      "                        flags: readable, writable\n",
      "                        String. Default: \"autovideosink0\"\n",
      "  parent              : The parent of the object\n",
      "                        flags: readable, writable\n",
      "                        Object of type \"GstObject\"\n",
      "  async-handling      : The bin will handle Asynchronous state changes\n",
      "                        flags: readable, writable\n",
      "                        Boolean. Default: false\n",
      "  message-forward     : Forwards all children messages\n",
      "                        flags: readable, writable\n",
      "                        Boolean. Default: false\n",
      "  filter-caps         : Filter sink candidates using these caps.\n",
      "                        flags: readable, writable\n",
      "                                                   video/x-raw\n",
      "\n",
      "  sync                : Sync on the clock\n",
      "                        flags: readable, writable\n",
      "                        Boolean. Default: true\n",
      "  ts-offset           : Timestamp offset in nanoseconds\n",
      "                        flags: readable, writable\n",
      "                        Integer64. Range: -9223372036854775808 - 9223372036854775807 Default: 0 \n",
      "\n",
      "Children:\n",
      "  fake-video-sink\n"
     ]
    }
   ],
   "source": [
    "!gst-inspect-1.0  autovideosink"
   ]
  },
  {
   "cell_type": "code",
   "execution_count": null,
   "id": "bd8e5916-d7e1-4e5a-b35a-0de1715edd9c",
   "metadata": {},
   "outputs": [],
   "source": []
  }
 ],
 "metadata": {
  "kernelspec": {
   "display_name": "Python 3",
   "language": "python",
   "name": "python3"
  },
  "language_info": {
   "codemirror_mode": {
    "name": "ipython",
    "version": 3
   },
   "file_extension": ".py",
   "mimetype": "text/x-python",
   "name": "python",
   "nbconvert_exporter": "python",
   "pygments_lexer": "ipython3",
   "version": "3.6.9"
  }
 },
 "nbformat": 4,
 "nbformat_minor": 5
}
