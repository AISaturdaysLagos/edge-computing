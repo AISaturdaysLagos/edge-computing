{
 "cells": [
  {
   "cell_type": "code",
   "execution_count": 3,
   "id": "5367f1e9-1543-45d4-849f-a6aad602f596",
   "metadata": {},
   "outputs": [
    {
     "name": "stdout",
     "output_type": "stream",
     "text": [
      "typefindfunctions: application/x-id3v2: mp3, mp2, mp1, mpga, ogg, flac, tta\n",
      "typefindfunctions: application/x-id3v1: mp3, mp2, mp1, mpga, ogg, flac, tta\n",
      "typefindfunctions: application/x-apetag: mp3, ape, mpc, wv\n"
     ]
    }
   ],
   "source": [
    "!gst-inspect-1.0 | grep mp3 | head -3"
   ]
  },
  {
   "cell_type": "markdown",
   "id": "e27e0af3-8629-4840-86ad-4a348bea9831",
   "metadata": {},
   "source": [
    "## Sink"
   ]
  },
  {
   "cell_type": "code",
   "execution_count": 32,
   "id": "3a28044f-3b05-413b-b8ec-25dc8060dfb9",
   "metadata": {},
   "outputs": [
    {
     "name": "stdout",
     "output_type": "stream",
     "text": [
      "Setting pipeline to PAUSED ...\n",
      "Opening in BLOCKING MODE \n",
      "Pipeline is PREROLLING ...\n",
      "NvMMLiteOpen : Block : BlockType = 261 \n",
      "NVMEDIA: Reading vendor.tegra.display-size : status: 6 \n",
      "NvMMLiteBlockCreate : Block : BlockType = 261 \n",
      "Pipeline is PREROLLED ...\n",
      "Setting pipeline to PLAYING ...\n",
      "New clock: GstSystemClock\n",
      "Got EOS from element \"pipeline0\".\n",
      "Execution ended after 0:00:48.066789244\n",
      "Setting pipeline to PAUSED ...\n",
      "Setting pipeline to READY ...\n",
      "Setting pipeline to NULL ...\n",
      "Freeing pipeline ...\n"
     ]
    }
   ],
   "source": [
    "!gst-launch-1.0 filesrc location=\"/dli/task/deepstream/samples/streams/sample_720p.mp4\" ! \\\n",
    "qtdemux ! queue ! h264parse ! nvv4l2decoder ! nvoverlaysink -e"
   ]
  },
  {
   "cell_type": "code",
   "execution_count": 9,
   "id": "3d1f38c9-bf4c-41c7-be56-8fd69579c477",
   "metadata": {},
   "outputs": [],
   "source": [
    "#!gst-inspect-1.0 qtdemux"
   ]
  },
  {
   "cell_type": "code",
   "execution_count": 15,
   "id": "9169412c-e4ac-43d3-8f10-0ed3af96f439",
   "metadata": {},
   "outputs": [],
   "source": [
    "#!gst-inspect-1.0 queue"
   ]
  },
  {
   "cell_type": "code",
   "execution_count": 19,
   "id": "e481a6e6-2661-4174-b83e-e6874c625db5",
   "metadata": {},
   "outputs": [],
   "source": [
    "#!gst-inspect-1.0 ! h264parse "
   ]
  },
  {
   "cell_type": "code",
   "execution_count": 20,
   "id": "cde248cb-553c-47db-9ba8-595cd7c02d5e",
   "metadata": {},
   "outputs": [],
   "source": [
    "#!gst-inspect-1.0 ! nvv4l2decoder"
   ]
  },
  {
   "cell_type": "code",
   "execution_count": 33,
   "id": "a49abe12-9504-4add-a10b-b56f0d2fbad1",
   "metadata": {},
   "outputs": [],
   "source": [
    "#!gst-inspect-1.0 nvoverlaysink # sink 1"
   ]
  },
  {
   "cell_type": "code",
   "execution_count": 34,
   "id": "619ffdd1-b646-4706-b974-e41c8202ecd5",
   "metadata": {},
   "outputs": [],
   "source": [
    "#!gst-inspect-1.0 nvvideosink # sink 2"
   ]
  },
  {
   "cell_type": "code",
   "execution_count": 39,
   "id": "876e5062-3dd7-4450-8377-bfb12be04bee",
   "metadata": {},
   "outputs": [],
   "source": [
    "#!gst-inspect-1.0 appsink # sink 3"
   ]
  },
  {
   "cell_type": "code",
   "execution_count": 36,
   "id": "41276216-529f-4965-a357-a2ce2d1e4a3f",
   "metadata": {},
   "outputs": [
    {
     "name": "stdout",
     "output_type": "stream",
     "text": [
      "Setting pipeline to PAUSED ...\n",
      "Opening in BLOCKING MODE \n",
      "Pipeline is PREROLLING ...\n",
      "NvMMLiteOpen : Block : BlockType = 261 \n",
      "NVMEDIA: Reading vendor.tegra.display-size : status: 6 \n",
      "NvMMLiteBlockCreate : Block : BlockType = 261 \n",
      "Pipeline is PREROLLED ...\n",
      "Setting pipeline to PLAYING ...\n",
      "New clock: GstSystemClock\n",
      "Got EOS from element \"pipeline0\".\n",
      "Execution ended after 0:00:02.546120419\n",
      "Setting pipeline to PAUSED ...\n",
      "Setting pipeline to READY ...\n",
      "Setting pipeline to NULL ...\n",
      "Freeing pipeline ...\n"
     ]
    }
   ],
   "source": [
    "!gst-launch-1.0 filesrc location=\"/dli/task/deepstream/samples/streams/sample_720p.mp4\" ! \\\n",
    "qtdemux ! queue ! h264parse ! nvv4l2decoder ! fakesink -e"
   ]
  },
  {
   "cell_type": "code",
   "execution_count": 40,
   "id": "fced02ac-61cb-4257-ad97-b5b90ed3e750",
   "metadata": {},
   "outputs": [],
   "source": [
    "#!gst-inspect-1.0 fakesink # sink 4"
   ]
  },
  {
   "cell_type": "markdown",
   "id": "3f7f56e6-1a6b-4231-b8a5-e911e11fa7e4",
   "metadata": {},
   "source": [
    "## Encoder (h264, h256)"
   ]
  },
  {
   "cell_type": "code",
   "execution_count": 44,
   "id": "d09b214d-e126-45b8-9feb-8fcd1cf2ffb9",
   "metadata": {},
   "outputs": [
    {
     "name": "stdout",
     "output_type": "stream",
     "text": [
      "Setting pipeline to PAUSED ...\n",
      "Pipeline is PREROLLING ...\n",
      "Framerate set to : 30 at NvxVideoEncoderSetParameterNvMMLiteOpen : Block : BlockType = 4 \n",
      "===== NVMEDIA: NVENC =====\n",
      "NvMMLiteBlockCreate : Block : BlockType = 4 \n",
      "H264: Profile = 66, Level = 40 \n",
      "NVMEDIA_ENC: bBlitMode is set to TRUE \n",
      "Pipeline is PREROLLED ...\n",
      "Setting pipeline to PLAYING ...\n",
      "New clock: GstSystemClock\n",
      "^C\n",
      "handling interrupt.\n",
      "Interrupt: Stopping pipeline ...\n",
      "Execution ended after 0:01:18.870540722\n",
      "Setting pipeline to PAUSED ...\n",
      "Setting pipeline to READY ...\n",
      "Setting pipeline to NULL ...\n",
      "Freeing pipeline ...\n"
     ]
    }
   ],
   "source": [
    "!gst-launch-1.0 videotestsrc ! \\\n",
    "'video/x-raw, format=(string)I420, width=(int)640, \\\n",
    "height=(int)480' ! omxh264enc ! \\\n",
    "'video/x-h264, stream-format=(string)byte-stream' ! h264parse ! \\\n",
    "qtmux ! filesink location=test.mp4 "
   ]
  },
  {
   "cell_type": "code",
   "execution_count": 49,
   "id": "fc158f09-1578-4062-ae6e-aca694bf1c16",
   "metadata": {},
   "outputs": [
    {
     "name": "stdout",
     "output_type": "stream",
     "text": [
      "Setting pipeline to PAUSED ...\n",
      "Pipeline is PREROLLING ...\n",
      "Framerate set to : 30 at NvxVideoEncoderSetParameterNvMMLiteOpen : Block : BlockType = 8 \n",
      "===== NVMEDIA: NVENC =====\n",
      "NvMMLiteBlockCreate : Block : BlockType = 8 \n",
      "NVMEDIA: H265 : Profile : 1 \n",
      "NVMEDIA_ENC: bBlitMode is set to TRUE \n",
      "Pipeline is PREROLLED ...\n",
      "Setting pipeline to PLAYING ...\n",
      "New clock: GstSystemClock\n",
      "^C\n",
      "handling interrupt.\n",
      "Interrupt: Stopping pipeline ...\n",
      "EOS on shutdown enabled -- Forcing EOS on the pipeline\n",
      "Waiting for EOS...\n",
      "Got EOS from element \"pipeline0\".\n",
      "EOS received - stopping pipeline...\n",
      "Execution ended after 0:00:16.869571948\n",
      "Setting pipeline to PAUSED ...\n",
      "Setting pipeline to READY ...\n",
      "Setting pipeline to NULL ...\n",
      "Freeing pipeline ...\n"
     ]
    }
   ],
   "source": [
    "!gst-launch-1.0 videotestsrc ! \\\n",
    "'video/x-raw, format=(string)I420, width=(int)640, \\\n",
    "height=(int)480' ! omxh265enc ! filesink location=test.h265 -e"
   ]
  },
  {
   "cell_type": "code",
   "execution_count": 52,
   "id": "03fd6e8f-5621-43ca-96c9-e2200d83f681",
   "metadata": {},
   "outputs": [
    {
     "name": "stdout",
     "output_type": "stream",
     "text": [
      "Setting pipeline to PAUSED ...\n",
      "Opening in BLOCKING MODE \n",
      "Pipeline is live and does not need PREROLL ...\n",
      "Setting pipeline to PLAYING ...\n",
      "New clock: GstSystemClock\n",
      "NvMMLiteOpen : Block : BlockType = 4 \n",
      "Redistribute latency...\n",
      "===== NVMEDIA: NVENC =====\n",
      "Error generated. /dvs/git/dirty/git-master_linux/multimedia/nvgstreamer/gst-nvarguscamera/gstnvarguscamerasrc.cpp, execute:740 No cameras available\n",
      "NvMMLiteBlockCreate : Block : BlockType = 4 \n",
      "Got EOS from element \"pipeline0\".\n",
      "Execution ended after 0:00:00.203166178\n",
      "Setting pipeline to PAUSED ...\n",
      "Setting pipeline to READY ...\n",
      "Setting pipeline to NULL ...\n",
      "Freeing pipeline ...\n"
     ]
    }
   ],
   "source": [
    "!gst-launch-1.0 nvarguscamerasrc ! \\\n",
    "'video/x-raw(memory:NVMM), width=(int)1920, height=(int)1080, \\\n",
    "format=(string)NV12, framerate=(fraction)30/1' ! nvv4l2h264enc \\\n",
    "maxperf-enable=1 bitrate=8000000 ! h264parse ! qtmux ! filesink \\\n",
    "location=test.mp4 -e"
   ]
  },
  {
   "cell_type": "markdown",
   "id": "2458306c-8104-465a-b4b7-3eddf30b6b42",
   "metadata": {},
   "source": [
    "## Camera Capture"
   ]
  },
  {
   "cell_type": "code",
   "execution_count": 55,
   "id": "6d268403-3692-4c5a-97c7-e495f477eac1",
   "metadata": {},
   "outputs": [],
   "source": [
    "#https://github.com/JetsonHacksNano/CSI-Camera/blob/master/README.md\n",
    "#!gst-inspect-1.0  nvarguscamerasrc"
   ]
  },
  {
   "cell_type": "code",
   "execution_count": 59,
   "id": "e223b32f-4785-4705-b7ed-0430b95e5788",
   "metadata": {},
   "outputs": [
    {
     "name": "stdout",
     "output_type": "stream",
     "text": [
      "No such element or plugin 'nvgstcapture'\n"
     ]
    }
   ],
   "source": [
    "!gst-inspect-1.0 nvgstcapture"
   ]
  },
  {
   "cell_type": "code",
   "execution_count": 64,
   "id": "ae0c45bc-95cf-45ac-87ba-3f6979266f43",
   "metadata": {},
   "outputs": [],
   "source": [
    "# !gst-launch-1.0 nvarguscamerasrc ! ‘video/x-raw(memory:NVMM), \\\n",
    "# width=(int)1920, height=(int)1080, format=(string)NV12, \\\n",
    "# framerate=(fraction)30/1' ! nvoverlaysink -e"
   ]
  },
  {
   "cell_type": "code",
   "execution_count": 63,
   "id": "f71456f4-240a-4d24-9fa8-f6c3ff786af5",
   "metadata": {},
   "outputs": [
    {
     "name": "stdout",
     "output_type": "stream",
     "text": [
      "Setting pipeline to PAUSED ...\n",
      "Pipeline is live and does not need PREROLL ...\n",
      "Setting pipeline to PLAYING ...\n",
      "New clock: GstSystemClock\n",
      "^C\n",
      "handling interrupt.\n",
      "Interrupt: Stopping pipeline ...\n",
      "EOS on shutdown enabled -- Forcing EOS on the pipeline\n",
      "Waiting for EOS...\n",
      "Got EOS from element \"pipeline0\".\n",
      "EOS received - stopping pipeline...\n",
      "Execution ended after 0:00:16.297610829\n",
      "Setting pipeline to PAUSED ...\n",
      "Setting pipeline to READY ...\n",
      "Setting pipeline to NULL ...\n",
      "Freeing pipeline ...\n"
     ]
    }
   ],
   "source": [
    "!gst-launch-1.0 v4l2src device=\"/dev/video0\" ! \\\n",
    "\"video/x-raw, width=640, height=480, format=(string)YUY2\" ! \\\n",
    "xvimagesink -e"
   ]
  },
  {
   "cell_type": "code",
   "execution_count": 76,
   "id": "69767f4e-577f-4ad0-9b27-1b3e93c69e3c",
   "metadata": {},
   "outputs": [
    {
     "name": "stdout",
     "output_type": "stream",
     "text": [
      "Setting pipeline to PAUSED ...\n",
      "Opening in BLOCKING MODE \n",
      "ERROR: Pipeline doesn't want to pause.\n",
      "ERROR: from element /GstPipeline:pipeline0/GstV4l2Src:v4l2src0: Cannot identify device '/dev/video1'.\n",
      "Additional debug info:\n",
      "v4l2_calls.c(609): gst_v4l2_open (): /GstPipeline:pipeline0/GstV4l2Src:v4l2src0:\n",
      "system error: No such file or directory\n",
      "Setting pipeline to NULL ...\n",
      "Freeing pipeline ...\n"
     ]
    }
   ],
   "source": [
    "!gst-launch-1.0 v4l2src device=/dev/video1 io-mode=2 ! 'image/jpeg,width=1280,height=720' ! nvv4l2decoder mjpeg=1 ! nvvidconv ! 'video/x-raw(memory:NVMM),format=NV12' ! autovideosink location=tes_image.jpg "
   ]
  },
  {
   "cell_type": "code",
   "execution_count": 8,
   "id": "bd3cd26a-7827-4e36-ab5f-f8546d42b24f",
   "metadata": {},
   "outputs": [
    {
     "name": "stdout",
     "output_type": "stream",
     "text": [
      "Setting pipeline to PAUSED ...\n",
      "Pipeline is live and does not need PREROLL ...\n",
      "Setting pipeline to PLAYING ...\n",
      "New clock: GstSystemClock\n",
      "^C\n",
      "handling interrupt.\n",
      "Interrupt: Stopping pipeline ...\n",
      "Execution ended after 0:00:02.999759293\n",
      "Setting pipeline to PAUSED ...\n",
      "Setting pipeline to READY ...\n",
      "Setting pipeline to NULL ...\n",
      "Freeing pipeline ...\n"
     ]
    }
   ],
   "source": [
    "!gst-launch-1.0 v4l2src device=/dev/video0 ! \"video/x-raw, format=YUY2, width=640, height=480, pixel-aspect-ratio=1/1, framerate=30/1\" ! videoconvert ! appsink"
   ]
  },
  {
   "cell_type": "code",
   "execution_count": 72,
   "id": "4a774f2d-b719-4ce3-91c9-21b253699891",
   "metadata": {},
   "outputs": [
    {
     "name": "stdout",
     "output_type": "stream",
     "text": [
      "Factory Details:\n",
      "  Rank                     none (0)\n",
      "  Long-name                Auto video sink\n",
      "  Klass                    Sink/Video\n",
      "  Description              Wrapper video sink for automatically detected video sink\n",
      "  Author                   Jan Schmidt <thaytan@noraisin.net>\n",
      "\n",
      "Plugin Details:\n",
      "  Name                     autodetect\n",
      "  Description              Plugin contains auto-detection plugins for video/audio in- and outputs\n",
      "  Filename                 /usr/lib/aarch64-linux-gnu/gstreamer-1.0/libgstautodetect.so\n",
      "  Version                  1.14.5\n",
      "  License                  LGPL\n",
      "  Source module            gst-plugins-good\n",
      "  Source release date      2019-05-29\n",
      "  Binary package           GStreamer Good Plugins (Ubuntu)\n",
      "  Origin URL               https://launchpad.net/distros/ubuntu/+source/gst-plugins-good1.0\n",
      "\n",
      "GObject\n",
      " +----GInitiallyUnowned\n",
      "       +----GstObject\n",
      "             +----GstElement\n",
      "                   +----GstBin\n",
      "                         +----GstAutoDetect\n",
      "                               +----GstAutoVideoSink\n",
      "\n",
      "Implemented Interfaces:\n",
      "  GstChildProxy\n",
      "\n",
      "Pad Templates:\n",
      "  SINK template: 'sink'\n",
      "    Availability: Always\n",
      "    Capabilities:\n",
      "      ANY\n",
      "\n",
      "Element has no clocking capabilities.\n",
      "Element has no URI handling capabilities.\n",
      "\n",
      "Pads:\n",
      "  SINK: 'sink'\n",
      "\n",
      "Element Properties:\n",
      "  name                : The name of the object\n",
      "                        flags: readable, writable\n",
      "                        String. Default: \"autovideosink0\"\n",
      "  parent              : The parent of the object\n",
      "                        flags: readable, writable\n",
      "                        Object of type \"GstObject\"\n",
      "  async-handling      : The bin will handle Asynchronous state changes\n",
      "                        flags: readable, writable\n",
      "                        Boolean. Default: false\n",
      "  message-forward     : Forwards all children messages\n",
      "                        flags: readable, writable\n",
      "                        Boolean. Default: false\n",
      "  filter-caps         : Filter sink candidates using these caps.\n",
      "                        flags: readable, writable\n",
      "                                                   video/x-raw\n",
      "\n",
      "  sync                : Sync on the clock\n",
      "                        flags: readable, writable\n",
      "                        Boolean. Default: true\n",
      "  ts-offset           : Timestamp offset in nanoseconds\n",
      "                        flags: readable, writable\n",
      "                        Integer64. Range: -9223372036854775808 - 9223372036854775807 Default: 0 \n",
      "\n",
      "Children:\n",
      "  fake-video-sink\n"
     ]
    }
   ],
   "source": [
    "!gst-inspect-1.0  autovideosink"
   ]
  },
  {
   "cell_type": "markdown",
   "id": "0980cafd-fb65-4ef3-a951-7c83f267b229",
   "metadata": {
    "tags": []
   },
   "source": [
    "## Decoder "
   ]
  },
  {
   "cell_type": "code",
   "execution_count": null,
   "id": "81a1ddc7-5931-4d10-bb57-14558ca5f63f",
   "metadata": {},
   "outputs": [],
   "source": [
    "# try nvv4l2decoder\n",
    "!gst-launch-1.0  filesrc location=\"/dli/task/deepstream/samples/streams/sample_720p.h264\" ! h264parse ! nvv4l2decoder ! videoconvert ! autovideosink"
   ]
  },
  {
   "cell_type": "code",
   "execution_count": 19,
   "id": "396cf22d-f34d-4cd0-b12b-6cb21ecd525c",
   "metadata": {},
   "outputs": [
    {
     "name": "stdout",
     "output_type": "stream",
     "text": [
      "Factory Details:\n",
      "  Rank                     primary + 11 (267)\n",
      "  Long-name                NVIDIA v4l2 video decoder\n",
      "  Klass                    Codec/Decoder/Video\n",
      "  Description              Decode video streams via V4L2 API\n",
      "  Author                   Nicolas Dufresne <nicolas.dufresne@collabora.com>, Viranjan Pagar <vpagar@nvidia.com>\n",
      "\n",
      "Plugin Details:\n",
      "  Name                     nvvideo4linux2\n",
      "  Description              Nvidia elements for Video 4 Linux\n",
      "  Filename                 /usr/lib/aarch64-linux-gnu/gstreamer-1.0/libgstnvvideo4linux2.so\n",
      "  Version                  1.14.0\n",
      "  License                  LGPL\n",
      "  Source module            nvvideo4linux2\n",
      "  Binary package           nvvideo4linux2\n",
      "  Origin URL               http://nvidia.com/\n",
      "\n",
      "GObject\n",
      " +----GInitiallyUnowned\n",
      "       +----GstObject\n",
      "             +----GstElement\n",
      "                   +----GstVideoDecoder\n",
      "                         +----GstNvV4l2VideoDec\n",
      "                               +----nvv4l2decoder\n",
      "\n",
      "Pad Templates:\n",
      "  SRC template: 'src'\n",
      "    Availability: Always\n",
      "    Capabilities:\n",
      "      video/x-raw(memory:NVMM)\n",
      "                  width: [ 1, 2147483647 ]\n",
      "                 height: [ 1, 2147483647 ]\n",
      "              framerate: [ 0/1, 2147483647/1 ]\n",
      "  \n",
      "  SINK template: 'sink'\n",
      "    Availability: Always\n",
      "    Capabilities:\n",
      "      image/jpeg\n",
      "      video/x-h264\n",
      "          stream-format: { (string)byte-stream }\n",
      "              alignment: { (string)au }\n",
      "      video/x-h265\n",
      "          stream-format: { (string)byte-stream }\n",
      "              alignment: { (string)au }\n",
      "      video/mpeg\n",
      "            mpegversion: 4\n",
      "           systemstream: false\n",
      "                 parsed: true\n",
      "                  width: [ 1, 2147483647 ]\n",
      "                 height: [ 1, 2147483647 ]\n",
      "      video/mpeg\n",
      "            mpegversion: [ 1, 2 ]\n",
      "           systemstream: false\n",
      "                 parsed: true\n",
      "                  width: [ 1, 2147483647 ]\n",
      "                 height: [ 1, 2147483647 ]\n",
      "      video/x-divx\n",
      "            divxversion: [ 4, 5 ]\n",
      "                  width: [ 1, 2147483647 ]\n",
      "                 height: [ 1, 2147483647 ]\n",
      "      video/x-vp8\n",
      "      video/x-vp9\n",
      "                  width: [ 1, 2147483647 ]\n",
      "                 height: [ 1, 2147483647 ]\n",
      "\n",
      "Element has no clocking capabilities.\n",
      "Element has no URI handling capabilities.\n",
      "\n",
      "Pads:\n",
      "  SINK: 'sink'\n",
      "    Pad Template: 'sink'\n",
      "  SRC: 'src'\n",
      "    Pad Template: 'src'\n",
      "\n",
      "Element Properties:\n",
      "  name                : The name of the object\n",
      "                        flags: readable, writable\n",
      "                        String. Default: \"nvv4l2decoder0\"\n",
      "  parent              : The parent of the object\n",
      "                        flags: readable, writable\n",
      "                        Object of type \"GstObject\"\n",
      "  device              : Device location\n",
      "                        flags: readable\n",
      "                        String. Default: \"/dev/nvhost-nvdec\"\n",
      "  device-name         : Name of the device\n",
      "                        flags: Opening in BLOCKING MODE \n",
      "readable\n",
      "                        String. Default: \"\"\n",
      "  device-fd           : File descriptor of the device\n",
      "                        flags: readable\n",
      "                        Integer. Range: -1 - 2147483647 Default: -1 \n",
      "  output-io-mode      : Output side I/O mode (matches sink pad)\n",
      "                        flags: readable, writable\n",
      "                        Enum \"GstNvV4l2DecOutputIOMode\" Default: 0, \"auto\"\n",
      "                           (0): auto             - GST_V4L2_IO_AUTO\n",
      "                           (2): mmap             - GST_V4L2_IO_MMAP\n",
      "                           (3): userptr          - GST_V4L2_IO_USERPTR\n",
      "  capture-io-mode     : Capture I/O mode (matches src pad)\n",
      "                        flags: readable, writable\n",
      "                        Enum \"GstNvV4l2DecCaptureIOMode\" Default: 0, \"auto\"\n",
      "                           (0): auto             - GST_V4L2_IO_AUTO\n",
      "                           (2): mmap             - GST_V4L2_IO_MMAP\n",
      "  extra-controls      : Extra v4l2 controls (CIDs) for the device\n",
      "                        flags: readable, writable\n",
      "                        Boxed pointer of type \"GstStructure\"\n",
      "  skip-frames         : Type of frames to skip during decoding\n",
      "                        flags: readable, writable, changeable in NULL, READY, PAUSED or PLAYING state\n",
      "                        Enum \"SkipFrame\" Default: 0, \"decode_all\"\n",
      "                           (0): decode_all       - Decode all frames\n",
      "                           (1): decode_non_ref   - Decode non-ref frames\n",
      "                           (2): decode_key       - decode key frames\n",
      "  drop-frame-interval : Interval to drop the frames,ex: value of 5 means every 5th frame will be given by decoder, rest all dropped\n",
      "                        flags: readable, writable, changeable only in NULL or READY state\n",
      "                        Unsigned Integer. Range: 0 - 30 Default: 0 \n",
      "  num-extra-surfaces  : Additional number of surfaces in addition to min decode surfaces given by the v4l2 driver\n",
      "                        flags: readable, writable, changeable only in NULL or READY state\n",
      "                        Unsigned Integer. Range: 0 - 55 Default: 1 \n",
      "  disable-dpb         : Set to disable DPB buffer for low latency\n",
      "                        flags: readable, writable\n",
      "                        Boolean. Default: false\n",
      "  enable-full-frame   : Whether or not the data is full framed\n",
      "                        flags: readable, writable\n",
      "                        Boolean. Default: false\n",
      "  enable-frame-type-reporting: Set to enable frame type reporting\n",
      "                        flags: readable, writable\n",
      "                        Boolean. Default: false\n",
      "  enable-error-check  : Set to enable error check\n",
      "                        flags: readable, writable\n",
      "                        Boolean. Default: false\n",
      "  enable-max-performance: Set to enable max performance\n",
      "                        flags: readable, writable\n",
      "                        Boolean. Default: false\n",
      "  mjpeg               : Set to open MJPEG block\n",
      "                        flags: readable, writable\n",
      "                        Boolean. Default: false\n",
      "  bufapi-version      : Set to use new buf API\n",
      "                        flags: readable, writable\n",
      "                        Boolean. Default: false\n",
      "  capture-buffer-dynamic-allocation: Set to enable capture buffer dynamic allocation\n",
      "                        flags: readable, writable\n",
      "                        Enum \"CaptureBufferDynamicAllocationModes\" Default: 0, \"cap_buf_dyn_alloc_disabled\"\n",
      "                           (0): cap_buf_dyn_alloc_disabled - Capture buffer dynamic allocation disabled\n",
      "                           (1): fw_cap_buf_dyn_alloc_enabled - Capture buffer dynamic allocation enabled for forward playback\n",
      "                           (2): rw_cap_buf_dyn_alloc_enabled - Capture buffer dynamic allocation enabled for reverse playback\n",
      "                           (3): fw_rw_cap_buf_dyn_alloc_enabled - Capture buffer dynamic allocation enabled for forward and reverse playback\n"
     ]
    }
   ],
   "source": [
    "!gst-inspect-1.0  nvv4l2decoder"
   ]
  },
  {
   "cell_type": "code",
   "execution_count": null,
   "id": "f9de295c-2a5e-462c-98c8-404a00ee54c2",
   "metadata": {},
   "outputs": [],
   "source": [
    "!ls /dli/task/deepstream/samples/streams/ #try another source file "
   ]
  },
  {
   "cell_type": "code",
   "execution_count": 13,
   "id": "001c38c6-f354-4a69-ac97-a65990f96914",
   "metadata": {},
   "outputs": [
    {
     "name": "stdout",
     "output_type": "stream",
     "text": [
      "Setting pipeline to PAUSED ...\n",
      "Pipeline is PREROLLING ...\n",
      "Opening in BLOCKING MODE \n",
      "NvMMLiteOpen : Block : BlockType = 261 \n",
      "NVMEDIA: Reading vendor.tegra.display-size : status: 6 \n",
      "NvMMLiteBlockCreate : Block : BlockType = 261 \n",
      "Pipeline is PREROLLED ...\n",
      "Setting pipeline to PLAYING ...\n",
      "New clock: GstSystemClock\n",
      "Got EOS from element \"pipeline0\".\n",
      "Execution ended after 0:00:48.066525862\n",
      "Setting pipeline to PAUSED ...\n",
      "Setting pipeline to READY ...\n",
      "Setting pipeline to NULL ...\n",
      "Freeing pipeline ...\n"
     ]
    }
   ],
   "source": [
    "!gst-launch-1.0  filesrc location=\"/dli/task/deepstream/samples/streams/sample_720p.h264\" ! h264parse ! decodebin ! videoconvert ! autovideosink"
   ]
  },
  {
   "cell_type": "code",
   "execution_count": 20,
   "id": "85703b68-3aca-4f87-9734-2be2f74fb5e3",
   "metadata": {},
   "outputs": [
    {
     "name": "stdout",
     "output_type": "stream",
     "text": [
      "Factory Details:\n",
      "  Rank                     none (0)\n",
      "  Long-name                Decoder Bin\n",
      "  Klass                    Generic/Bin/Decoder\n",
      "  Description              Autoplug and decode to raw media\n",
      "  Author                   Edward Hervey <edward.hervey@collabora.co.uk>, Sebastian Dr��ge <sebastian.droege@collabora.co.uk>\n",
      "\n",
      "Plugin Details:\n",
      "  Name                     playback\n",
      "  Description              various playback elements\n",
      "  Filename                 /usr/lib/aarch64-linux-gnu/gstreamer-1.0/libgstplayback.so\n",
      "  Version                  1.14.5\n",
      "  License                  LGPL\n",
      "  Source module            gst-plugins-base\n",
      "  Source release date      2019-05-29\n",
      "  Binary package           GStreamer Base Plugins (Ubuntu)\n",
      "  Origin URL               https://launchpad.net/distros/ubuntu/+source/gst-plugins-base1.0\n",
      "\n",
      "GObject\n",
      " +----GInitiallyUnowned\n",
      "       +----GstObject\n",
      "             +----GstElement\n",
      "                   +----GstBin\n",
      "                         +----GstDecodeBin\n",
      "\n",
      "Implemented Interfaces:\n",
      "  GstChildProxy\n",
      "\n",
      "Pad Templates:\n",
      "  SINK template: 'sink'\n",
      "    Availability: Always\n",
      "    Capabilities:\n",
      "      ANY\n",
      "  \n",
      "  SRC template: 'src_%u'\n",
      "    Availability: Sometimes\n",
      "    Capabilities:\n",
      "      ANY\n",
      "\n",
      "Element has no clocking capabilities.\n",
      "Element has no URI handling capabilities.\n",
      "\n",
      "Pads:\n",
      "  SINK: 'sink'\n",
      "    Pad Template: 'sink'\n",
      "\n",
      "Element Properties:\n",
      "  name                : The name of the object\n",
      "                        flags: readable, writable\n",
      "                        String. Default: \"decodebin0\"\n",
      "  parent              : The parent of the object\n",
      "                        flags: readable, writable\n",
      "                        Object of type \"GstObject\"\n",
      "  async-handling      : The bin will handle Asynchronous state changes\n",
      "                        flags: readable, writable\n",
      "                        Boolean. Default: false\n",
      "  message-forward     : Forwards all children messages\n",
      "                        flags: readable, writable\n",
      "                        Boolean. Default: false\n",
      "  caps                : The caps on which to stop decoding.\n",
      "                        flags: readable, writable\n",
      "                                                   video/x-raw(ANY)\n",
      "                                                   audio/x-raw(ANY)\n",
      "                                                   text/x-raw(ANY)\n",
      "                                                   subpicture/x-dvd\n",
      "                                                   subpicture/x-dvb\n",
      "                                                   subpicture/x-xsub\n",
      "                                                   subpicture/x-pgs\n",
      "\n",
      "  subtitle-encoding   : Encoding to assume if input subtitles are not in UTF-8 encoding. If not set, the GST_SUBTITLE_ENCODING environment variable will be checked for an encoding to use. If that is not set either, ISO-8859-15 will be assumed.\n",
      "                        flags: readable, writable\n",
      "                        String. Default: null\n",
      "  sink-caps           : The caps of the input data. (NULL = use typefind element)\n",
      "                        flags: readable, writable\n",
      "                        Caps (NULL)\n",
      "  use-buffering       : Emit GST_MESSAGE_BUFFERING based on low-/high-percent thresholds\n",
      "                        flags: readable, writable\n",
      "                        Boolean. Default: false\n",
      "  low-percent         : Low threshold for buffering to start\n",
      "                        flags: readable, writable\n",
      "                        Integer. Range: 0 - 100 Default: 10 \n",
      "  high-percent        : High threshold for buffering to finish\n",
      "                        flags: readable, writable\n",
      "                        Integer. Range: 0 - 100 Default: 99 \n",
      "  max-size-bytes      : Max. amount of bytes in the queue (0=automatic)\n",
      "                        flags: readable, writable\n",
      "                        Unsigned Integer. Range: 0 - 4294967295 Default: 0 \n",
      "  max-size-buffers    : Max. number of buffers in the queue (0=automatic)\n",
      "                        flags: readable, writable\n",
      "                        Unsigned Integer. Range: 0 - 4294967295 Default: 0 \n",
      "  max-size-time       : Max. amount of data in the queue (in ns, 0=automatic)\n",
      "                        flags: readable, writable\n",
      "                        Unsigned Integer64. Range: 0 - 18446744073709551615 Default: 0 \n",
      "  post-stream-topology: Post stream-topology messages\n",
      "                        flags: readable, writable\n",
      "                        Boolean. Default: false\n",
      "  expose-all-streams  : Expose all streams, including those of unknown type or that don't match the 'caps' property\n",
      "                        flags: readable, writable\n",
      "                        Boolean. Default: true\n",
      "  connection-speed    : Network connection speed in kbps (0 = unknown)\n",
      "                        flags: readable, writable\n",
      "                        Unsigned Integer64. Range: 0 - 18446744073709551 Default: 0 \n",
      "\n",
      "Element Signals:\n",
      "  \"pad-added\" :  void user_function (GstElement* object,\n",
      "                                     GstPad* arg0,\n",
      "                                     gpointer user_data);\n",
      "  \"pad-removed\" :  void user_function (GstElement* object,\n",
      "                                       GstPad* arg0,\n",
      "                                       gpointer user_data);\n",
      "  \"no-more-pads\" :  void user_function (GstElement* object,\n",
      "                                        gpointer user_data);\n",
      "  \"unknown-type\" :  void user_function (GstElement* object,\n",
      "                                        GstPad* arg0,\n",
      "                                        GstCaps* arg1,\n",
      "                                        gpointer user_data);\n",
      "  \"autoplug-continue\" :  gboolean user_function (GstElement* object,\n",
      "                                                 GstPad* arg0,\n",
      "                                                 GstCaps* arg1,\n",
      "                                                 gpointer user_data);\n",
      "  \"autoplug-factories\" :  GValueArray * user_function (GstElement* object,\n",
      "                                                       GstPad* arg0,\n",
      "                                                       GstCaps* arg1,\n",
      "                                                       gpointer user_data);\n",
      "  \"autoplug-sort\" :  GValueArray * user_function (GstElement* object,\n",
      "                                                  GstPad* arg0,\n",
      "                                                  GstCaps* arg1,\n",
      "                                                  GValueArray* arg2,\n",
      "                                                  gpointer user_data);\n",
      "  \"autoplug-select\" :  GstAutoplugSelectResult user_function (GstElement* object,\n",
      "                                                              GstPad* arg0,\n",
      "                                                              GstCaps* arg1,\n",
      "                                                              GstElementFactory* arg2,\n",
      "                                                              gpointer user_data);\n",
      "  \"autoplug-query\" :  gboolean user_function (GstElement* object,\n",
      "                                              GstPad* arg0,\n",
      "                                              GstElement* arg1,\n",
      "                                              GstQuery* arg2,\n",
      "                                              gpointer user_data);\n",
      "  \"drained\" :  void user_function (GstElement* object,\n",
      "                                   gpointer user_data);\n",
      "\n",
      "Children:\n",
      "  typefind\n"
     ]
    }
   ],
   "source": [
    "!gst-inspect-1.0  decodebin "
   ]
  },
  {
   "cell_type": "markdown",
   "id": "b883527f-e70b-4bd9-bd79-33975083b72d",
   "metadata": {},
   "source": [
    "## Parser H264 and H265"
   ]
  },
  {
   "cell_type": "code",
   "execution_count": null,
   "id": "7138d6c1-13b7-470e-8e42-03f8fedaba5e",
   "metadata": {},
   "outputs": [
    {
     "name": "stdout",
     "output_type": "stream",
     "text": [
      "Setting pipeline to PAUSED ...\n",
      "Opening in BLOCKING MODE \n",
      "Pipeline is PREROLLING ...\n",
      "ERROR: from element /GstPipeline:pipeline0/GstH264Parse:h264parse0: Internal data stream error.\n",
      "Additional debug info:\n",
      "gstbaseparse.c(3611): gst_base_parse_loop (): /GstPipeline:pipeline0/GstH264Parse:h264parse0:\n",
      "streaming stopped, reason not-negotiated (-4)\n",
      "ERROR: pipeline doesn't want to preroll.\n",
      "Setting pipeline to NULL ...\n",
      "Freeing pipeline ...\n"
     ]
    }
   ],
   "source": [
    "# try nvv4l2decoder\n",
    "!gst-launch-1.0  filesrc location=\"/dli/task/deepstream/samples/streams/sample_720p.h264\" ! h264parse ! nvv4l2decoder ! videoconvert ! autovideosink"
   ]
  },
  {
   "cell_type": "code",
   "execution_count": 21,
   "id": "277c91d5-5266-45bd-970a-97cc303c54ce",
   "metadata": {},
   "outputs": [
    {
     "name": "stdout",
     "output_type": "stream",
     "text": [
      "Factory Details:\n",
      "  Rank                     primary + 1 (257)\n",
      "  Long-name                H.264 parser\n",
      "  Klass                    Codec/Parser/Converter/Video\n",
      "  Description              Parses H.264 streams\n",
      "  Author                   Mark Nauwelaerts <mark.nauwelaerts@collabora.co.uk>\n",
      "\n",
      "Plugin Details:\n",
      "  Name                     videoparsersbad\n",
      "  Description              videoparsers\n",
      "  Filename                 /usr/lib/aarch64-linux-gnu/gstreamer-1.0/libgstvideoparsersbad.so\n",
      "  Version                  1.14.5\n",
      "  License                  LGPL\n",
      "  Source module            gst-plugins-bad\n",
      "  Source release date      2019-05-29\n",
      "  Binary package           GStreamer Bad Plugins (Ubuntu)\n",
      "  Origin URL               https://launchpad.net/distros/ubuntu/+source/gst-plugins-bad1.0\n",
      "\n",
      "GObject\n",
      " +----GInitiallyUnowned\n",
      "       +----GstObject\n",
      "             +----GstElement\n",
      "                   +----GstBaseParse\n",
      "                         +----GstH264Parse\n",
      "\n",
      "Pad Templates:\n",
      "  SRC template: 'src'\n",
      "    Availability: Always\n",
      "    Capabilities:\n",
      "      video/x-h264\n",
      "                 parsed: true\n",
      "          stream-format: { (string)avc, (string)avc3, (string)byte-stream }\n",
      "              alignment: { (string)au, (string)nal }\n",
      "  \n",
      "  SINK template: 'sink'\n",
      "    Availability: Always\n",
      "    Capabilities:\n",
      "      video/x-h264\n",
      "\n",
      "Element has no clocking capabilities.\n",
      "Element has no URI handling capabilities.\n",
      "\n",
      "Pads:\n",
      "  SINK: 'sink'\n",
      "    Pad Template: 'sink'\n",
      "  SRC: 'src'\n",
      "    Pad Template: 'src'\n",
      "\n",
      "Element Properties:\n",
      "  name                : The name of the object\n",
      "                        flags: readable, writable\n",
      "                        String. Default: \"h264parse0\"\n",
      "  parent              : The parent of the object\n",
      "                        flags: readable, writable\n",
      "                        Object of type \"GstObject\"\n",
      "  disable-passthrough : Force processing (disables passthrough)\n",
      "                        flags: readable, writable\n",
      "                        Boolean. Default: false\n",
      "  config-interval     : Send SPS and PPS Insertion Interval in seconds (sprop parameter sets will be multiplexed in the data stream when detected.) (0 = disabled, -1 = send with every IDR frame)\n",
      "                        flags: readable, writable\n",
      "                        Integer. Range: -1 - 3600 Default: 0 \n"
     ]
    }
   ],
   "source": [
    "!gst-inspect-1.0   h264parse"
   ]
  },
  {
   "cell_type": "code",
   "execution_count": null,
   "id": "96e519ed-ee78-490c-a7d0-5fc616855b14",
   "metadata": {},
   "outputs": [
    {
     "name": "stdout",
     "output_type": "stream",
     "text": [
      "sample_1080p_h264.mp4  sample_720p.mp4\t      sample_qHD.mp4\t     yoga.jpg\n",
      "sample_1080p_h265.mp4  sample_cam6.mp4\t      sample_ride_bike.mov   yoga.mp4\n",
      "sample_720p.h264       sample_industrial.jpg  sample_run.mov\n",
      "sample_720p.jpg        sample_push.mov\t      sample_walk.mov\n",
      "sample_720p.mjpeg      sample_qHD.h264\t      sonyc_mixed_audio.wav\n"
     ]
    }
   ],
   "source": [
    "!ls /dli/task/deepstream/samples/streams/ #try another source file "
   ]
  },
  {
   "cell_type": "code",
   "execution_count": 24,
   "id": "11a61700-d439-445a-9978-664af616f8ad",
   "metadata": {},
   "outputs": [],
   "source": [
    "# try h265\n",
    "#!gst-launch-1.0  filesrc location=\"/dli/task/deepstream/samples/streams/sample_1080p_h265.mp4\" ! h265parse ! nvv4l2decoder ! videoconvert ! autovideosink"
   ]
  },
  {
   "cell_type": "markdown",
   "id": "a9cac5c6-d0c4-4a14-b41a-501fa7cd9c81",
   "metadata": {},
   "source": [
    "## Video Converter "
   ]
  },
  {
   "cell_type": "code",
   "execution_count": null,
   "id": "7b33e82c-ab65-4fad-847f-5235b32023a5",
   "metadata": {},
   "outputs": [],
   "source": [
    "# try nvv4l2decoder\n",
    "!gst-launch-1.0  filesrc location=\"/dli/task/deepstream/samples/streams/sample_720p.h264\" ! h264parse ! nvv4l2decoder ! videoconvert ! autovideosink"
   ]
  },
  {
   "cell_type": "code",
   "execution_count": 26,
   "id": "0d08f4df-29bd-4a79-ad44-ce36be006ae6",
   "metadata": {},
   "outputs": [],
   "source": [
    "#!gst-inspect-1.0 videoconvert"
   ]
  },
  {
   "cell_type": "markdown",
   "id": "9f6b3e37-4201-4367-b5e9-38547380615e",
   "metadata": {},
   "source": [
    "## Muxer "
   ]
  },
  {
   "cell_type": "code",
   "execution_count": null,
   "id": "de59036a-913e-4c01-a176-ccda3a5525c0",
   "metadata": {},
   "outputs": [],
   "source": [
    "#!gst-inspect-1.0 nvstreammux"
   ]
  },
  {
   "cell_type": "markdown",
   "id": "6fe2e78a-7b98-42c8-9142-a762f6c72dc2",
   "metadata": {},
   "source": [
    "## Demuxer "
   ]
  },
  {
   "cell_type": "code",
   "execution_count": 27,
   "id": "b3c77b86-9e2e-4593-9e8d-eb239e20af2b",
   "metadata": {},
   "outputs": [
    {
     "name": "stdout",
     "output_type": "stream",
     "text": [
      "Factory Details:\n",
      "  Rank                     primary (256)\n",
      "  Long-name                QuickTime demuxer\n",
      "  Klass                    Codec/Demuxer\n",
      "  Description              Demultiplex a QuickTime file into audio and video streams\n",
      "  Author                   David Schleef <ds@schleef.org>, Wim Taymans <wim@fluendo.com>\n",
      "\n",
      "Plugin Details:\n",
      "  Name                     isomp4\n",
      "  Description              ISO base media file format support (mp4, 3gpp, qt, mj2)\n",
      "  Filename                 /usr/lib/aarch64-linux-gnu/gstreamer-1.0/libgstisomp4.so\n",
      "  Version                  1.14.5\n",
      "  License                  LGPL\n",
      "  Source module            gst-plugins-good\n",
      "  Source release date      2019-05-29\n",
      "  Binary package           GStreamer Good Plugins (Ubuntu)\n",
      "  Origin URL               https://launchpad.net/distros/ubuntu/+source/gst-plugins-good1.0\n",
      "\n",
      "GObject\n",
      " +----GInitiallyUnowned\n",
      "       +----GstObject\n",
      "             +----GstElement\n",
      "                   +----GstQTDemux\n",
      "\n",
      "Pad Templates:\n",
      "  SINK template: 'sink'\n",
      "    Availability: Always\n",
      "    Capabilities:\n",
      "      video/quicktime\n",
      "      video/mj2\n",
      "      audio/x-m4a\n",
      "      application/x-3gp\n",
      "  \n",
      "  SRC template: 'video_%u'\n",
      "    Availability: Sometimes\n",
      "    Capabilities:\n",
      "      ANY\n",
      "  \n",
      "  SRC template: 'audio_%u'\n",
      "    Availability: Sometimes\n",
      "    Capabilities:\n",
      "      ANY\n",
      "  \n",
      "  SRC template: 'subtitle_%u'\n",
      "    Availability: Sometimes\n",
      "    Capabilities:\n",
      "      ANY\n",
      "\n",
      "Element has no clocking capabilities.\n",
      "Element has no URI handling capabilities.\n",
      "\n",
      "Pads:\n",
      "  SINK: 'sink'\n",
      "    Pad Template: 'sink'\n",
      "\n",
      "Element Properties:\n",
      "  name                : The name of the object\n",
      "                        flags: readable, writable\n",
      "                        String. Default: \"qtdemux0\"\n",
      "  parent              : The parent of the object\n",
      "                        flags: readable, writable\n",
      "                        Object of type \"GstObject\"\n",
      "\n",
      "Element Signals:\n",
      "  \"pad-added\" :  void user_function (GstElement* object,\n",
      "                                     GstPad* arg0,\n",
      "                                     gpointer user_data);\n",
      "  \"pad-removed\" :  void user_function (GstElement* object,\n",
      "                                       GstPad* arg0,\n",
      "                                       gpointer user_data);\n",
      "  \"no-more-pads\" :  void user_function (GstElement* object,\n",
      "                                        gpointer user_data);\n"
     ]
    }
   ],
   "source": [
    "#!gst-inspect-1.0 qtdemux"
   ]
  },
  {
   "cell_type": "code",
   "execution_count": null,
   "id": "7af2cb29-4b7c-4239-ae60-c44fe2d2e871",
   "metadata": {},
   "outputs": [],
   "source": []
  }
 ],
 "metadata": {
  "kernelspec": {
   "display_name": "Python 3",
   "language": "python",
   "name": "python3"
  },
  "language_info": {
   "codemirror_mode": {
    "name": "ipython",
    "version": 3
   },
   "file_extension": ".py",
   "mimetype": "text/x-python",
   "name": "python",
   "nbconvert_exporter": "python",
   "pygments_lexer": "ipython3",
   "version": "3.6.9"
  }
 },
 "nbformat": 4,
 "nbformat_minor": 5
}
