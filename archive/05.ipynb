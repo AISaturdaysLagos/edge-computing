{
 "cells": [
  {
   "cell_type": "markdown",
   "metadata": {},
   "source": [
    "### Visualizing Gstreamer Element "
   ]
  },
  {
   "cell_type": "code",
   "execution_count": null,
   "metadata": {},
   "outputs": [],
   "source": [
    "# Install Flatpak and GstPipelineStudio\n",
    "# https://flatpak.org/setup/Ubuntu\n",
    "# https://flathub.org/apps/details/org.freedesktop.dabrain34.GstPipelineStudio"
   ]
  }
 ],
 "metadata": {
  "language_info": {
   "name": "python"
  },
  "orig_nbformat": 4
 },
 "nbformat": 4,
 "nbformat_minor": 2
}
